{
 "cells": [
  {
   "cell_type": "markdown",
   "metadata": {},
   "source": [
    "# Tools & libraries"
   ]
  },
  {
   "cell_type": "code",
   "execution_count": 2,
   "metadata": {},
   "outputs": [],
   "source": [
    "import pandas as pd\n",
    "import numpy as np"
   ]
  },
  {
   "cell_type": "code",
   "execution_count": 14,
   "metadata": {},
   "outputs": [],
   "source": [
    "#importing lending club data (https://github.com/dosei1/Lending-Club-Loan-Data/blob/master/loans_2007.csv), CSV import instead of direct import from Git\n",
    "loans = pd.read_csv('loans_2007.csv', error_bad_lines=False)"
   ]
  },
  {
   "cell_type": "code",
   "execution_count": 4,
   "metadata": {},
   "outputs": [
    {
     "name": "stdout",
     "output_type": "stream",
     "text": [
      "   loan_amnt  int_rate  installment  emp_length  annual_inc  loan_status  \\\n",
      "0     5000.0     10.65       162.87          10     24000.0            1   \n",
      "1     2500.0     15.27        59.83           0     30000.0            0   \n",
      "2     2400.0     15.96        84.33          10     12252.0            1   \n",
      "3    10000.0     13.49       339.31          10     49200.0            1   \n",
      "4     5000.0      7.90       156.46           3     36000.0            1   \n",
      "\n",
      "   zip_code    dti  delinq_2yrs  fico_range_high  ...  purpose_major_purchase  \\\n",
      "0       860  27.65          0.0            739.0  ...                     0.0   \n",
      "1       309   1.00          0.0            744.0  ...                     0.0   \n",
      "2       606   8.72          0.0            739.0  ...                     0.0   \n",
      "3       917  20.00          0.0            694.0  ...                     0.0   \n",
      "4       852  11.20          0.0            734.0  ...                     0.0   \n",
      "\n",
      "   purpose_medical  purpose_moving  purpose_other  purpose_renewable_energy  \\\n",
      "0              0.0             0.0            0.0                       0.0   \n",
      "1              0.0             0.0            0.0                       0.0   \n",
      "2              0.0             0.0            0.0                       0.0   \n",
      "3              0.0             0.0            1.0                       0.0   \n",
      "4              0.0             0.0            0.0                       0.0   \n",
      "\n",
      "   purpose_small_business  purpose_vacation  purpose_wedding  term_ 36 months  \\\n",
      "0                     0.0               0.0              0.0              1.0   \n",
      "1                     0.0               0.0              0.0              0.0   \n",
      "2                     1.0               0.0              0.0              1.0   \n",
      "3                     0.0               0.0              0.0              1.0   \n",
      "4                     0.0               0.0              1.0              1.0   \n",
      "\n",
      "   term_ 60 months  \n",
      "0              0.0  \n",
      "1              1.0  \n",
      "2              0.0  \n",
      "3              0.0  \n",
      "4              0.0  \n",
      "\n",
      "[5 rows x 41 columns]\n"
     ]
    }
   ],
   "source": [
    "#showing data snapshot (e.g. print top 5 rows of the data)\n",
    "print(loans.head())"
   ]
  },
  {
   "cell_type": "code",
   "execution_count": 5,
   "metadata": {},
   "outputs": [
    {
     "name": "stdout",
     "output_type": "stream",
     "text": [
      "Data dimesnions:\n",
      "rows: 39252\n",
      "columns: 41\n"
     ]
    }
   ],
   "source": [
    "#showing data dimensions (columns x rows)\n",
    "df_shape = loans.shape\n",
    "print('Data dimesnions:\\nrows: {0[0]}\\ncolumns: {0[1]}'.format(df_shape))"
   ]
  },
  {
   "cell_type": "code",
   "execution_count": 7,
   "metadata": {},
   "outputs": [
    {
     "data": {
      "text/plain": [
       "loan_amnt                              float64\n",
       "int_rate                               float64\n",
       "installment                            float64\n",
       "emp_length                               int64\n",
       "annual_inc                             float64\n",
       "loan_status                              int64\n",
       "zip_code                                 int64\n",
       "dti                                    float64\n",
       "delinq_2yrs                            float64\n",
       "fico_range_high                        float64\n",
       "inq_last_6mths                         float64\n",
       "open_acc                               float64\n",
       "pub_rec                                float64\n",
       "revol_bal                              float64\n",
       "revol_util                             float64\n",
       "total_acc                              float64\n",
       "last_fico_range_high                   float64\n",
       "home_ownership_MORTGAGE                float64\n",
       "home_ownership_NONE                    float64\n",
       "home_ownership_OTHER                   float64\n",
       "home_ownership_OWN                     float64\n",
       "home_ownership_RENT                    float64\n",
       "verification_status_Not Verified       float64\n",
       "verification_status_Source Verified    float64\n",
       "verification_status_Verified           float64\n",
       "purpose_car                            float64\n",
       "purpose_credit_card                    float64\n",
       "purpose_debt_consolidation             float64\n",
       "purpose_educational                    float64\n",
       "purpose_home_improvement               float64\n",
       "purpose_house                          float64\n",
       "purpose_major_purchase                 float64\n",
       "purpose_medical                        float64\n",
       "purpose_moving                         float64\n",
       "purpose_other                          float64\n",
       "purpose_renewable_energy               float64\n",
       "purpose_small_business                 float64\n",
       "purpose_vacation                       float64\n",
       "purpose_wedding                        float64\n",
       "term_ 36 months                        float64\n",
       "term_ 60 months                        float64\n",
       "dtype: object"
      ]
     },
     "execution_count": 7,
     "metadata": {},
     "output_type": "execute_result"
    }
   ],
   "source": [
    "#listing variables in the data + variable type (numeric, character, float, etc.)\n",
    "loans.dtypes"
   ]
  },
  {
   "cell_type": "code",
   "execution_count": 8,
   "metadata": {},
   "outputs": [
    {
     "name": "stdout",
     "output_type": "stream",
     "text": [
      "Minimum loan amount: 35000.0\n",
      "Maximum loan amount: 500.0\n"
     ]
    }
   ],
   "source": [
    "#finding max and min loan amounts\n",
    "maximum_values = loans['loan_amnt'].max(skipna=True)\n",
    "minimum_values = loans['loan_amnt'].min(skipna=True)\n",
    "#print(maximum_values)\n",
    "print('Minimum loan amount: {}\\nMaximum loan amount: {}'.format(maximum_values, minimum_values))"
   ]
  },
  {
   "cell_type": "code",
   "execution_count": 9,
   "metadata": {},
   "outputs": [
    {
     "name": "stdout",
     "output_type": "stream",
     "text": [
      "Average loan amount: 11137.18027106899\n"
     ]
    }
   ],
   "source": [
    "#average loan amount\n",
    "data_mean = loans['loan_amnt'].mean()\n",
    "print('Average loan amount: {}'.format(data_mean))"
   ]
  },
  {
   "cell_type": "code",
   "execution_count": 11,
   "metadata": {},
   "outputs": [
    {
     "data": {
      "text/plain": [
       "purpose_car                    1536\n",
       "purpose_credit_card            5079\n",
       "purpose_debt_consolidation    18376\n",
       "purpose_educational             325\n",
       "purpose_home_improvement       2951\n",
       "purpose_house                   372\n",
       "purpose_major_purchase         2184\n",
       "purpose_medical                 690\n",
       "purpose_moving                  582\n",
       "purpose_other                  3938\n",
       "purpose_renewable_energy        103\n",
       "purpose_small_business         1797\n",
       "purpose_vacation                378\n",
       "purpose_wedding                 941\n",
       "dtype: int64"
      ]
     },
     "execution_count": 11,
     "metadata": {},
     "output_type": "execute_result"
    }
   ],
   "source": [
    "#count of loans by it's purpose\n",
    "(loans.filter(regex='purpose')== 1).sum()"
   ]
  },
  {
   "cell_type": "code",
   "execution_count": 13,
   "metadata": {},
   "outputs": [
    {
     "data": {
      "text/html": [
       "<div>\n",
       "<style scoped>\n",
       "    .dataframe tbody tr th:only-of-type {\n",
       "        vertical-align: middle;\n",
       "    }\n",
       "\n",
       "    .dataframe tbody tr th {\n",
       "        vertical-align: top;\n",
       "    }\n",
       "\n",
       "    .dataframe thead th {\n",
       "        text-align: right;\n",
       "    }\n",
       "</style>\n",
       "<table border=\"1\" class=\"dataframe\">\n",
       "  <thead>\n",
       "    <tr style=\"text-align: right;\">\n",
       "      <th></th>\n",
       "      <th>loan_amnt</th>\n",
       "      <th>variable</th>\n",
       "      <th>key</th>\n",
       "    </tr>\n",
       "  </thead>\n",
       "  <tbody>\n",
       "    <tr>\n",
       "      <td>94833</td>\n",
       "      <td>35000.0</td>\n",
       "      <td>purpose_debt_consolidation</td>\n",
       "      <td>1.0</td>\n",
       "    </tr>\n",
       "    <tr>\n",
       "      <td>91852</td>\n",
       "      <td>35000.0</td>\n",
       "      <td>purpose_debt_consolidation</td>\n",
       "      <td>1.0</td>\n",
       "    </tr>\n",
       "    <tr>\n",
       "      <td>82394</td>\n",
       "      <td>35000.0</td>\n",
       "      <td>purpose_debt_consolidation</td>\n",
       "      <td>1.0</td>\n",
       "    </tr>\n",
       "    <tr>\n",
       "      <td>91560</td>\n",
       "      <td>35000.0</td>\n",
       "      <td>purpose_debt_consolidation</td>\n",
       "      <td>1.0</td>\n",
       "    </tr>\n",
       "    <tr>\n",
       "      <td>357903</td>\n",
       "      <td>35000.0</td>\n",
       "      <td>purpose_other</td>\n",
       "      <td>1.0</td>\n",
       "    </tr>\n",
       "    <tr>\n",
       "      <td>91643</td>\n",
       "      <td>35000.0</td>\n",
       "      <td>purpose_debt_consolidation</td>\n",
       "      <td>1.0</td>\n",
       "    </tr>\n",
       "    <tr>\n",
       "      <td>91644</td>\n",
       "      <td>35000.0</td>\n",
       "      <td>purpose_debt_consolidation</td>\n",
       "      <td>1.0</td>\n",
       "    </tr>\n",
       "    <tr>\n",
       "      <td>82299</td>\n",
       "      <td>35000.0</td>\n",
       "      <td>purpose_debt_consolidation</td>\n",
       "      <td>1.0</td>\n",
       "    </tr>\n",
       "    <tr>\n",
       "      <td>91695</td>\n",
       "      <td>35000.0</td>\n",
       "      <td>purpose_debt_consolidation</td>\n",
       "      <td>1.0</td>\n",
       "    </tr>\n",
       "    <tr>\n",
       "      <td>357475</td>\n",
       "      <td>35000.0</td>\n",
       "      <td>purpose_other</td>\n",
       "      <td>1.0</td>\n",
       "    </tr>\n",
       "  </tbody>\n",
       "</table>\n",
       "</div>"
      ],
      "text/plain": [
       "        loan_amnt                    variable  key\n",
       "94833     35000.0  purpose_debt_consolidation  1.0\n",
       "91852     35000.0  purpose_debt_consolidation  1.0\n",
       "82394     35000.0  purpose_debt_consolidation  1.0\n",
       "91560     35000.0  purpose_debt_consolidation  1.0\n",
       "357903    35000.0               purpose_other  1.0\n",
       "91643     35000.0  purpose_debt_consolidation  1.0\n",
       "91644     35000.0  purpose_debt_consolidation  1.0\n",
       "82299     35000.0  purpose_debt_consolidation  1.0\n",
       "91695     35000.0  purpose_debt_consolidation  1.0\n",
       "357475    35000.0               purpose_other  1.0"
      ]
     },
     "execution_count": 13,
     "metadata": {},
     "output_type": "execute_result"
    }
   ],
   "source": [
    "#list of top 10 loans loan amounts & their purposes\n",
    "keys = [c for c in loans if c.startswith('purpose_')]\n",
    "loans_purpose = pd.melt(loans, id_vars='loan_amnt', value_vars=keys, value_name='key')\n",
    "loans_purpose.loc[loans_purpose['key'] == 1].sort_values(by= 'loan_amnt', ascending = False).head(10)"
   ]
  },
  {
   "cell_type": "markdown",
   "metadata": {},
   "source": [
    "# Visualization"
   ]
  },
  {
   "cell_type": "code",
   "execution_count": 23,
   "metadata": {},
   "outputs": [],
   "source": [
    "import matplotlib.pyplot as plt\n",
    "import seaborn as sns\n",
    "import pandas as pd"
   ]
  },
  {
   "cell_type": "code",
   "execution_count": 27,
   "metadata": {},
   "outputs": [],
   "source": [
    "df = pd.read_csv('loans_2007.csv', error_bad_lines=False)"
   ]
  },
  {
   "cell_type": "code",
   "execution_count": 29,
   "metadata": {
    "scrolled": true
   },
   "outputs": [
    {
     "data": {
      "image/png": "[encoded data removed]",
      "text/plain": [
       "<Figure size 432x288 with 1 Axes>"
      ]
     },
     "metadata": {
      "needs_background": "light"
     },
     "output_type": "display_data"
    }
   ],
   "source": [
    "#prints a histogram for loan amount\n",
    "\n",
    "x = df['loan_amnt'].unique()\n",
    "y = x.sort()\n",
    "plt.hist(df['loan_amnt'],y)\n",
    "plt.show()\n"
   ]
  },
  {
   "cell_type": "code",
   "execution_count": 30,
   "metadata": {},
   "outputs": [
    {
     "data": {
      "text/plain": [
       "Text(0.5, 1.0, 'Sum of Loan Amount per Purpose')"
      ]
     },
     "execution_count": 30,
     "metadata": {},
     "output_type": "execute_result"
    },
    {
     "data": {
      "image/png": "[encoded data removed]",
      "text/plain": [
       "<Figure size 432x288 with 1 Axes>"
      ]
     },
     "metadata": {
      "needs_background": "light"
     },
     "output_type": "display_data"
    }
   ],
   "source": [
    "#prints a bar chart with sum of loan amount per purpose\n",
    "df['purpose'] = df.filter(regex='purpose').eq(1).apply(lambda x: ', '.join(x[x].index), axis = 1).str[8:]\n",
    "\n",
    "fig, ax = plt.subplots()\n",
    "ax = sns.barplot(x='purpose', y='loan_amnt', data=df, estimator=sum, ci=None)\n",
    "plt.xticks(rotation=90)\n",
    "ax.get_yaxis().set_major_formatter(plt.FuncFormatter(lambda x, loc: \"{:,}\".format(int(x))))\n",
    "ax.set_title('Sum of Loan Amount per Purpose')\n"
   ]
  },
  {
   "cell_type": "code",
   "execution_count": 32,
   "metadata": {},
   "outputs": [
    {
     "data": {
      "image/png": "[encoded data removed]",
      "text/plain": [
       "<Figure size 432x288 with 1 Axes>"
      ]
     },
     "metadata": {
      "needs_background": "light"
     },
     "output_type": "display_data"
    },
    {
     "data": {
      "text/plain": [
       "50%    10000.0\n",
       "min      500.0\n",
       "max    35000.0\n",
       "25%     5400.0\n",
       "75%    15000.0\n",
       "Name: loan_amnt, dtype: float64"
      ]
     },
     "execution_count": 32,
     "metadata": {},
     "output_type": "execute_result"
    },
    {
     "data": {
      "image/png": "[encoded data removed]",
      "text/plain": [
       "<Figure size 432x288 with 1 Axes>"
      ]
     },
     "metadata": {
      "needs_background": "light"
     },
     "output_type": "display_data"
    }
   ],
   "source": [
    "#prints a boxplot for loan amount, print median + min + max + Q1+ Q3 + outliers and comment your findings\n",
    "\n",
    "x = array = df['loan_amnt']\n",
    "plt.boxplot(x)\n",
    "plt.show()\n",
    "\n",
    "sns.boxplot(y = 'loan_amnt', data=df)\n",
    "\n",
    "df['loan_amnt'].describe()[['50%', 'min', 'max', '25%', '75%']]\n",
    "\n",
    "\n",
    "#75% percent of granted loans are bigger than 5,000.  \n",
    "#oans amounted from 30,000 to 35,000 are considered as outliers (differs significantly from other values)\n",
    "#data distribution is positive skewed, i.e. mass of the distribution occurs on the lower side\n",
    "#relatively low loans "
   ]
  },
  {
   "cell_type": "code",
   "execution_count": 33,
   "metadata": {},
   "outputs": [
    {
     "data": {
      "text/html": [
       "<div>\n",
       "<style scoped>\n",
       "    .dataframe tbody tr th:only-of-type {\n",
       "        vertical-align: middle;\n",
       "    }\n",
       "\n",
       "    .dataframe tbody tr th {\n",
       "        vertical-align: top;\n",
       "    }\n",
       "\n",
       "    .dataframe thead th {\n",
       "        text-align: right;\n",
       "    }\n",
       "</style>\n",
       "<table border=\"1\" class=\"dataframe\">\n",
       "  <thead>\n",
       "    <tr style=\"text-align: right;\">\n",
       "      <th></th>\n",
       "      <th>loan_amnt</th>\n",
       "      <th>int_rate</th>\n",
       "      <th>installment</th>\n",
       "      <th>emp_length</th>\n",
       "      <th>annual_inc</th>\n",
       "      <th>loan_status</th>\n",
       "      <th>zip_code</th>\n",
       "      <th>dti</th>\n",
       "      <th>delinq_2yrs</th>\n",
       "      <th>fico_range_high</th>\n",
       "      <th>...</th>\n",
       "      <th>purpose_other</th>\n",
       "      <th>purpose_renewable_energy</th>\n",
       "      <th>purpose_small_business</th>\n",
       "      <th>purpose_vacation</th>\n",
       "      <th>purpose_wedding</th>\n",
       "      <th>term_ 36 months</th>\n",
       "      <th>term_ 60 months</th>\n",
       "      <th>purpose</th>\n",
       "      <th>outlier</th>\n",
       "      <th>outlier_int</th>\n",
       "    </tr>\n",
       "  </thead>\n",
       "  <tbody>\n",
       "    <tr>\n",
       "      <td>30</td>\n",
       "      <td>31825.0</td>\n",
       "      <td>7.90</td>\n",
       "      <td>995.82</td>\n",
       "      <td>5</td>\n",
       "      <td>75000.0</td>\n",
       "      <td>1</td>\n",
       "      <td>80</td>\n",
       "      <td>14.03</td>\n",
       "      <td>0.0</td>\n",
       "      <td>764.0</td>\n",
       "      <td>...</td>\n",
       "      <td>0.0</td>\n",
       "      <td>0.0</td>\n",
       "      <td>0.0</td>\n",
       "      <td>0.0</td>\n",
       "      <td>0.0</td>\n",
       "      <td>1.0</td>\n",
       "      <td>0.0</td>\n",
       "      <td>debt_consolidation</td>\n",
       "      <td>True</td>\n",
       "      <td>1</td>\n",
       "    </tr>\n",
       "    <tr>\n",
       "      <td>77</td>\n",
       "      <td>35000.0</td>\n",
       "      <td>17.27</td>\n",
       "      <td>551.84</td>\n",
       "      <td>3</td>\n",
       "      <td>150000.0</td>\n",
       "      <td>1</td>\n",
       "      <td>115</td>\n",
       "      <td>7.51</td>\n",
       "      <td>0.0</td>\n",
       "      <td>729.0</td>\n",
       "      <td>...</td>\n",
       "      <td>0.0</td>\n",
       "      <td>0.0</td>\n",
       "      <td>0.0</td>\n",
       "      <td>0.0</td>\n",
       "      <td>0.0</td>\n",
       "      <td>0.0</td>\n",
       "      <td>1.0</td>\n",
       "      <td>home_improvement</td>\n",
       "      <td>True</td>\n",
       "      <td>1</td>\n",
       "    </tr>\n",
       "    <tr>\n",
       "      <td>122</td>\n",
       "      <td>35000.0</td>\n",
       "      <td>8.90</td>\n",
       "      <td>1111.37</td>\n",
       "      <td>6</td>\n",
       "      <td>125000.0</td>\n",
       "      <td>1</td>\n",
       "      <td>928</td>\n",
       "      <td>22.71</td>\n",
       "      <td>0.0</td>\n",
       "      <td>744.0</td>\n",
       "      <td>...</td>\n",
       "      <td>0.0</td>\n",
       "      <td>0.0</td>\n",
       "      <td>0.0</td>\n",
       "      <td>0.0</td>\n",
       "      <td>0.0</td>\n",
       "      <td>1.0</td>\n",
       "      <td>0.0</td>\n",
       "      <td>debt_consolidation</td>\n",
       "      <td>True</td>\n",
       "      <td>1</td>\n",
       "    </tr>\n",
       "    <tr>\n",
       "      <td>179</td>\n",
       "      <td>35000.0</td>\n",
       "      <td>10.65</td>\n",
       "      <td>1140.07</td>\n",
       "      <td>2</td>\n",
       "      <td>168000.0</td>\n",
       "      <td>1</td>\n",
       "      <td>775</td>\n",
       "      <td>3.17</td>\n",
       "      <td>1.0</td>\n",
       "      <td>764.0</td>\n",
       "      <td>...</td>\n",
       "      <td>0.0</td>\n",
       "      <td>0.0</td>\n",
       "      <td>0.0</td>\n",
       "      <td>0.0</td>\n",
       "      <td>0.0</td>\n",
       "      <td>1.0</td>\n",
       "      <td>0.0</td>\n",
       "      <td>debt_consolidation</td>\n",
       "      <td>True</td>\n",
       "      <td>1</td>\n",
       "    </tr>\n",
       "    <tr>\n",
       "      <td>203</td>\n",
       "      <td>29500.0</td>\n",
       "      <td>20.30</td>\n",
       "      <td>786.51</td>\n",
       "      <td>6</td>\n",
       "      <td>83000.0</td>\n",
       "      <td>1</td>\n",
       "      <td>880</td>\n",
       "      <td>20.93</td>\n",
       "      <td>0.0</td>\n",
       "      <td>694.0</td>\n",
       "      <td>...</td>\n",
       "      <td>0.0</td>\n",
       "      <td>0.0</td>\n",
       "      <td>0.0</td>\n",
       "      <td>0.0</td>\n",
       "      <td>0.0</td>\n",
       "      <td>0.0</td>\n",
       "      <td>1.0</td>\n",
       "      <td>debt_consolidation</td>\n",
       "      <td>True</td>\n",
       "      <td>1</td>\n",
       "    </tr>\n",
       "    <tr>\n",
       "      <td>...</td>\n",
       "      <td>...</td>\n",
       "      <td>...</td>\n",
       "      <td>...</td>\n",
       "      <td>...</td>\n",
       "      <td>...</td>\n",
       "      <td>...</td>\n",
       "      <td>...</td>\n",
       "      <td>...</td>\n",
       "      <td>...</td>\n",
       "      <td>...</td>\n",
       "      <td>...</td>\n",
       "      <td>...</td>\n",
       "      <td>...</td>\n",
       "      <td>...</td>\n",
       "      <td>...</td>\n",
       "      <td>...</td>\n",
       "      <td>...</td>\n",
       "      <td>...</td>\n",
       "      <td>...</td>\n",
       "      <td>...</td>\n",
       "      <td>...</td>\n",
       "    </tr>\n",
       "    <tr>\n",
       "      <td>19330</td>\n",
       "      <td>32000.0</td>\n",
       "      <td>20.85</td>\n",
       "      <td>863.01</td>\n",
       "      <td>5</td>\n",
       "      <td>62400.0</td>\n",
       "      <td>1</td>\n",
       "      <td>18</td>\n",
       "      <td>13.04</td>\n",
       "      <td>0.0</td>\n",
       "      <td>689.0</td>\n",
       "      <td>...</td>\n",
       "      <td>0.0</td>\n",
       "      <td>0.0</td>\n",
       "      <td>0.0</td>\n",
       "      <td>0.0</td>\n",
       "      <td>0.0</td>\n",
       "      <td>0.0</td>\n",
       "      <td>1.0</td>\n",
       "      <td>debt_consolidation</td>\n",
       "      <td>True</td>\n",
       "      <td>1</td>\n",
       "    </tr>\n",
       "    <tr>\n",
       "      <td>19341</td>\n",
       "      <td>32000.0</td>\n",
       "      <td>19.74</td>\n",
       "      <td>843.19</td>\n",
       "      <td>8</td>\n",
       "      <td>93500.0</td>\n",
       "      <td>1</td>\n",
       "      <td>112</td>\n",
       "      <td>16.36</td>\n",
       "      <td>0.0</td>\n",
       "      <td>674.0</td>\n",
       "      <td>...</td>\n",
       "      <td>0.0</td>\n",
       "      <td>0.0</td>\n",
       "      <td>0.0</td>\n",
       "      <td>0.0</td>\n",
       "      <td>0.0</td>\n",
       "      <td>0.0</td>\n",
       "      <td>1.0</td>\n",
       "      <td>debt_consolidation</td>\n",
       "      <td>True</td>\n",
       "      <td>1</td>\n",
       "    </tr>\n",
       "    <tr>\n",
       "      <td>19355</td>\n",
       "      <td>30000.0</td>\n",
       "      <td>16.40</td>\n",
       "      <td>735.94</td>\n",
       "      <td>6</td>\n",
       "      <td>110000.0</td>\n",
       "      <td>1</td>\n",
       "      <td>117</td>\n",
       "      <td>9.03</td>\n",
       "      <td>0.0</td>\n",
       "      <td>744.0</td>\n",
       "      <td>...</td>\n",
       "      <td>0.0</td>\n",
       "      <td>0.0</td>\n",
       "      <td>0.0</td>\n",
       "      <td>0.0</td>\n",
       "      <td>0.0</td>\n",
       "      <td>0.0</td>\n",
       "      <td>1.0</td>\n",
       "      <td>debt_consolidation</td>\n",
       "      <td>True</td>\n",
       "      <td>1</td>\n",
       "    </tr>\n",
       "    <tr>\n",
       "      <td>19368</td>\n",
       "      <td>30000.0</td>\n",
       "      <td>17.88</td>\n",
       "      <td>759.85</td>\n",
       "      <td>10</td>\n",
       "      <td>360000.0</td>\n",
       "      <td>1</td>\n",
       "      <td>111</td>\n",
       "      <td>11.35</td>\n",
       "      <td>0.0</td>\n",
       "      <td>714.0</td>\n",
       "      <td>...</td>\n",
       "      <td>0.0</td>\n",
       "      <td>0.0</td>\n",
       "      <td>0.0</td>\n",
       "      <td>0.0</td>\n",
       "      <td>0.0</td>\n",
       "      <td>0.0</td>\n",
       "      <td>1.0</td>\n",
       "      <td>debt_consolidation</td>\n",
       "      <td>True</td>\n",
       "      <td>1</td>\n",
       "    </tr>\n",
       "    <tr>\n",
       "      <td>19387</td>\n",
       "      <td>35000.0</td>\n",
       "      <td>20.48</td>\n",
       "      <td>936.66</td>\n",
       "      <td>2</td>\n",
       "      <td>250000.0</td>\n",
       "      <td>1</td>\n",
       "      <td>275</td>\n",
       "      <td>20.64</td>\n",
       "      <td>1.0</td>\n",
       "      <td>674.0</td>\n",
       "      <td>...</td>\n",
       "      <td>0.0</td>\n",
       "      <td>0.0</td>\n",
       "      <td>0.0</td>\n",
       "      <td>0.0</td>\n",
       "      <td>0.0</td>\n",
       "      <td>0.0</td>\n",
       "      <td>1.0</td>\n",
       "      <td>credit_card</td>\n",
       "      <td>True</td>\n",
       "      <td>1</td>\n",
       "    </tr>\n",
       "  </tbody>\n",
       "</table>\n",
       "<p>1154 rows × 44 columns</p>\n",
       "</div>"
      ],
      "text/plain": [
       "       loan_amnt  int_rate  installment  emp_length  annual_inc  loan_status  \\\n",
       "30       31825.0      7.90       995.82           5     75000.0            1   \n",
       "77       35000.0     17.27       551.84           3    150000.0            1   \n",
       "122      35000.0      8.90      1111.37           6    125000.0            1   \n",
       "179      35000.0     10.65      1140.07           2    168000.0            1   \n",
       "203      29500.0     20.30       786.51           6     83000.0            1   \n",
       "...          ...       ...          ...         ...         ...          ...   \n",
       "19330    32000.0     20.85       863.01           5     62400.0            1   \n",
       "19341    32000.0     19.74       843.19           8     93500.0            1   \n",
       "19355    30000.0     16.40       735.94           6    110000.0            1   \n",
       "19368    30000.0     17.88       759.85          10    360000.0            1   \n",
       "19387    35000.0     20.48       936.66           2    250000.0            1   \n",
       "\n",
       "       zip_code    dti  delinq_2yrs  fico_range_high  ...  purpose_other  \\\n",
       "30           80  14.03          0.0            764.0  ...            0.0   \n",
       "77          115   7.51          0.0            729.0  ...            0.0   \n",
       "122         928  22.71          0.0            744.0  ...            0.0   \n",
       "179         775   3.17          1.0            764.0  ...            0.0   \n",
       "203         880  20.93          0.0            694.0  ...            0.0   \n",
       "...         ...    ...          ...              ...  ...            ...   \n",
       "19330        18  13.04          0.0            689.0  ...            0.0   \n",
       "19341       112  16.36          0.0            674.0  ...            0.0   \n",
       "19355       117   9.03          0.0            744.0  ...            0.0   \n",
       "19368       111  11.35          0.0            714.0  ...            0.0   \n",
       "19387       275  20.64          1.0            674.0  ...            0.0   \n",
       "\n",
       "       purpose_renewable_energy  purpose_small_business  purpose_vacation  \\\n",
       "30                          0.0                     0.0               0.0   \n",
       "77                          0.0                     0.0               0.0   \n",
       "122                         0.0                     0.0               0.0   \n",
       "179                         0.0                     0.0               0.0   \n",
       "203                         0.0                     0.0               0.0   \n",
       "...                         ...                     ...               ...   \n",
       "19330                       0.0                     0.0               0.0   \n",
       "19341                       0.0                     0.0               0.0   \n",
       "19355                       0.0                     0.0               0.0   \n",
       "19368                       0.0                     0.0               0.0   \n",
       "19387                       0.0                     0.0               0.0   \n",
       "\n",
       "       purpose_wedding  term_ 36 months  term_ 60 months             purpose  \\\n",
       "30                 0.0              1.0              0.0  debt_consolidation   \n",
       "77                 0.0              0.0              1.0    home_improvement   \n",
       "122                0.0              1.0              0.0  debt_consolidation   \n",
       "179                0.0              1.0              0.0  debt_consolidation   \n",
       "203                0.0              0.0              1.0  debt_consolidation   \n",
       "...                ...              ...              ...                 ...   \n",
       "19330              0.0              0.0              1.0  debt_consolidation   \n",
       "19341              0.0              0.0              1.0  debt_consolidation   \n",
       "19355              0.0              0.0              1.0  debt_consolidation   \n",
       "19368              0.0              0.0              1.0  debt_consolidation   \n",
       "19387              0.0              0.0              1.0         credit_card   \n",
       "\n",
       "       outlier  outlier_int  \n",
       "30        True            1  \n",
       "77        True            1  \n",
       "122       True            1  \n",
       "179       True            1  \n",
       "203       True            1  \n",
       "...        ...          ...  \n",
       "19330     True            1  \n",
       "19341     True            1  \n",
       "19355     True            1  \n",
       "19368     True            1  \n",
       "19387     True            1  \n",
       "\n",
       "[1154 rows x 44 columns]"
      ]
     },
     "execution_count": 33,
     "metadata": {},
     "output_type": "execute_result"
    }
   ],
   "source": [
    "# Outliers\n",
    "\n",
    "Q1 = df['loan_amnt'].quantile(0.25)\n",
    "Q3 = df['loan_amnt'].quantile(0.75)\n",
    "IQR = Q3 - Q1\n",
    "df['outlier'] = (df['loan_amnt'] < (Q1 - 1.5 * IQR)) | (df['loan_amnt'] > (Q3 + 1.5 * IQR)).astype(int)\n",
    "df['outlier_int'] = df['outlier'].astype(int)\n",
    "df[df['outlier_int']==1]"
   ]
  },
  {
   "cell_type": "code",
   "execution_count": 36,
   "metadata": {},
   "outputs": [
    {
     "data": {
      "text/plain": [
       "Text(0, 0.5, 'Loan amount')"
      ]
     },
     "execution_count": 36,
     "metadata": {},
     "output_type": "execute_result"
    },
    {
     "data": {
      "image/png": "[encoded data removed]",
      "text/plain": [
       "<Figure size 432x288 with 1 Axes>"
      ]
     },
     "metadata": {
      "needs_background": "light"
     },
     "output_type": "display_data"
    }
   ],
   "source": [
    "#print scatter plot for loans (y-axis for loans amount, x-axis for loan repayment term, color for purpose)\n",
    "\n",
    "df['repayment'] = df.filter(regex='term_').eq(1).apply(lambda x: ', '.join(x[x].index), axis = 1).str[5:8]\n",
    "\n",
    "ax = sns.scatterplot(x=df['repayment'].head(100), y=df['loan_amnt'].head(100), hue = df['purpose'].head(100))\n",
    "ax.legend(loc='center right', bbox_to_anchor=(1.5, 0.5), ncol=1)\n",
    "ax.set_title('Scatter plot for loans')\n",
    "ax.set_xlabel('Repayment Term')\n",
    "ax.set_ylabel('Loan amount')"
   ]
  },
  {
   "cell_type": "code",
   "execution_count": 37,
   "metadata": {},
   "outputs": [
    {
     "data": {
      "text/plain": [
       "<matplotlib.axes._subplots.AxesSubplot at 0x1ed4fd493c8>"
      ]
     },
     "execution_count": 37,
     "metadata": {},
     "output_type": "execute_result"
    },
    {
     "data": {
      "image/png": "[encoded data removed]",
      "text/plain": [
       "<Figure size 432x288 with 1 Axes>"
      ]
     },
     "metadata": {
      "needs_background": "light"
     },
     "output_type": "display_data"
    }
   ],
   "source": [
    "# bxlots is better for comparison\n",
    "sns.boxplot(x = 'repayment', y = 'loan_amnt', data=df)"
   ]
  },
  {
   "cell_type": "code",
   "execution_count": null,
   "metadata": {},
   "outputs": [],
   "source": []
  }
 ],
 "metadata": {
  "kernelspec": {
   "display_name": "Python 3",
   "language": "python",
   "name": "python3"
  },
  "language_info": {
   "codemirror_mode": {
    "name": "ipython",
    "version": 3
   },
   "file_extension": ".py",
   "mimetype": "text/x-python",
   "name": "python",
   "nbconvert_exporter": "python",
   "pygments_lexer": "ipython3",
   "version": "3.7.4"
  }
 },
 "nbformat": 4,
 "nbformat_minor": 2
}
